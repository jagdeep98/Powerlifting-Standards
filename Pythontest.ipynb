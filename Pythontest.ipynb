{
 "cells": [
  {
   "cell_type": "code",
   "execution_count": 1,
   "id": "54e88b71",
   "metadata": {},
   "outputs": [
    {
     "name": "stdout",
     "output_type": "stream",
     "text": [
      "2\n"
     ]
    }
   ],
   "source": [
    "print(1+1)"
   ]
  },
  {
   "cell_type": "code",
   "execution_count": 1,
   "id": "e2064c8f",
   "metadata": {},
   "outputs": [
    {
     "name": "stdout",
     "output_type": "stream",
     "text": [
      "Cleaned data (no missing values in columns A-L) saved to C:\\Users\\N1039872.ADS\\OneDrive - Nottingham Trent University\\Python Code\\cleaned_data.csv\n"
     ]
    }
   ],
   "source": [
    "import pandas as pd\n",
    "\n",
    "# Use the full path to the CSV file\n",
    "file_path = r\"C:\\Users\\N1039872.ADS\\OneDrive - Nottingham Trent University\\Python Code\\raw_equipment_data.csv\"\n",
    "\n",
    "# Read the filtered CSV file\n",
    "df = pd.read_csv(file_path)\n",
    "\n",
    "# Define the columns A to L (based on the columns you wanted to keep)\n",
    "columns_a_to_l = ['Name', 'Equipment', 'Division', 'BodyweightKg', 'WeightClassKg', \n",
    "                  'Best3SquatKg', 'Best3BenchKg', 'Best3DeadliftKg', 'TotalKg', 'Dots', 'Wilks', 'Goodlift']\n",
    "\n",
    "# Drop rows with any missing values in columns A to L\n",
    "filtered_df = df.dropna(subset=columns_a_to_l)\n",
    "\n",
    "# Save the cleaned DataFrame to a new CSV file\n",
    "output_file_path_cleaned = r\"C:\\Users\\N1039872.ADS\\OneDrive - Nottingham Trent University\\Python Code\\cleaned_data.csv\"\n",
    "filtered_df.to_csv(output_file_path_cleaned, index=False)\n",
    "\n",
    "print(f\"Cleaned data (no missing values in columns A-L) saved to {output_file_path_cleaned}\")\n",
    "\n"
   ]
  },
  {
   "cell_type": "code",
   "execution_count": 2,
   "id": "e2127ed3",
   "metadata": {},
   "outputs": [
    {
     "name": "stdout",
     "output_type": "stream",
     "text": [
      "Unique data (only highest total per name) saved to C:\\Users\\N1039872.ADS\\OneDrive - Nottingham Trent University\\Python Code\\unique_entries_data.csv\n"
     ]
    }
   ],
   "source": [
    "import pandas as pd\n",
    "\n",
    "# Use the full path to the CSV file\n",
    "file_path = r\"C:\\Users\\N1039872.ADS\\OneDrive - Nottingham Trent University\\Python Code\\cleaned_data.csv\"\n",
    "\n",
    "# Read the cleaned CSV file\n",
    "df = pd.read_csv(file_path)\n",
    "\n",
    "# Sort by 'Name' (column A) and 'TotalKg' (column L) in descending order, so the highest total is first for each name\n",
    "df = df.sort_values(by=['Name', 'TotalKg'], ascending=[True, False])\n",
    "\n",
    "# Drop duplicates based on 'Name', keeping only the first occurrence (which has the highest 'TotalKg' due to sorting)\n",
    "df_unique = df.drop_duplicates(subset='Name', keep='first')\n",
    "\n",
    "# Save the final DataFrame to a new CSV file\n",
    "output_file_path_unique = r\"C:\\Users\\N1039872.ADS\\OneDrive - Nottingham Trent University\\Python Code\\unique_entries_data.csv\"\n",
    "df_unique.to_csv(output_file_path_unique, index=False)\n",
    "\n",
    "print(f\"Unique data (only highest total per name) saved to {output_file_path_unique}\")\n"
   ]
  },
  {
   "cell_type": "code",
   "execution_count": 3,
   "id": "6d9f906d",
   "metadata": {},
   "outputs": [
    {
     "name": "stdout",
     "output_type": "stream",
     "text": [
      "Unique data (only highest total per name) saved to C:\\Users\\N1039872.ADS\\OneDrive - Nottingham Trent University\\Python Code\\unique_entries_data.csv\n"
     ]
    }
   ],
   "source": [
    "import pandas as pd\n",
    "\n",
    "# Use the full path to the CSV file\n",
    "file_path = r\"C:\\Users\\N1039872.ADS\\OneDrive - Nottingham Trent University\\Python Code\\cleaned_data.csv\"\n",
    "\n",
    "# Read the cleaned CSV file\n",
    "df = pd.read_csv(file_path)\n",
    "\n",
    "# Sort by 'Name' (column A) and 'TotalKg' (column L) in descending order, so the highest total is first for each name\n",
    "df = df.sort_values(by=['Name', 'TotalKg'], ascending=[True, False])\n",
    "\n",
    "# Drop duplicates based on 'Name', keeping only the first occurrence (which has the highest 'TotalKg' due to sorting)\n",
    "df_unique = df.drop_duplicates(subset='Name', keep='first')\n",
    "\n",
    "# Save the final DataFrame to a new CSV file\n",
    "output_file_path_unique = r\"C:\\Users\\N1039872.ADS\\OneDrive - Nottingham Trent University\\Python Code\\unique_entries_data.csv\"\n",
    "df_unique.to_csv(output_file_path_unique, index=False)\n",
    "\n",
    "print(f\"Unique data (only highest total per name) saved to {output_file_path_unique}\")"
   ]
  },
  {
   "cell_type": "code",
   "execution_count": 4,
   "id": "1ca1dc65",
   "metadata": {},
   "outputs": [
    {
     "name": "stdout",
     "output_type": "stream",
     "text": [
      "Enter your body weight (kg): 70\n",
      "Enter your squat weight (kg): 200\n",
      "Enter your bench weight (kg): 120\n",
      "Enter your deadlift weight (kg): 200\n"
     ]
    },
    {
     "ename": "KeyError",
     "evalue": "'GLPT S'",
     "output_type": "error",
     "traceback": [
      "\u001b[1;31m---------------------------------------------------------------------------\u001b[0m",
      "\u001b[1;31mKeyError\u001b[0m                                  Traceback (most recent call last)",
      "File \u001b[1;32mC:\\ProgramData\\anaconda3\\Lib\\site-packages\\pandas\\core\\indexes\\base.py:3653\u001b[0m, in \u001b[0;36mIndex.get_loc\u001b[1;34m(self, key)\u001b[0m\n\u001b[0;32m   3652\u001b[0m \u001b[38;5;28;01mtry\u001b[39;00m:\n\u001b[1;32m-> 3653\u001b[0m     \u001b[38;5;28;01mreturn\u001b[39;00m \u001b[38;5;28mself\u001b[39m\u001b[38;5;241m.\u001b[39m_engine\u001b[38;5;241m.\u001b[39mget_loc(casted_key)\n\u001b[0;32m   3654\u001b[0m \u001b[38;5;28;01mexcept\u001b[39;00m \u001b[38;5;167;01mKeyError\u001b[39;00m \u001b[38;5;28;01mas\u001b[39;00m err:\n",
      "File \u001b[1;32mC:\\ProgramData\\anaconda3\\Lib\\site-packages\\pandas\\_libs\\index.pyx:147\u001b[0m, in \u001b[0;36mpandas._libs.index.IndexEngine.get_loc\u001b[1;34m()\u001b[0m\n",
      "File \u001b[1;32mC:\\ProgramData\\anaconda3\\Lib\\site-packages\\pandas\\_libs\\index.pyx:176\u001b[0m, in \u001b[0;36mpandas._libs.index.IndexEngine.get_loc\u001b[1;34m()\u001b[0m\n",
      "File \u001b[1;32mpandas\\_libs\\hashtable_class_helper.pxi:7080\u001b[0m, in \u001b[0;36mpandas._libs.hashtable.PyObjectHashTable.get_item\u001b[1;34m()\u001b[0m\n",
      "File \u001b[1;32mpandas\\_libs\\hashtable_class_helper.pxi:7088\u001b[0m, in \u001b[0;36mpandas._libs.hashtable.PyObjectHashTable.get_item\u001b[1;34m()\u001b[0m\n",
      "\u001b[1;31mKeyError\u001b[0m: 'GLPT S'",
      "\nThe above exception was the direct cause of the following exception:\n",
      "\u001b[1;31mKeyError\u001b[0m                                  Traceback (most recent call last)",
      "Cell \u001b[1;32mIn[4], line 41\u001b[0m\n\u001b[0;32m     38\u001b[0m total_input \u001b[38;5;241m=\u001b[39m squat_input \u001b[38;5;241m+\u001b[39m bench_input \u001b[38;5;241m+\u001b[39m deadlift_input\n\u001b[0;32m     40\u001b[0m \u001b[38;5;66;03m# Calculate and display percentiles for each lift\u001b[39;00m\n\u001b[1;32m---> 41\u001b[0m \u001b[38;5;28mprint\u001b[39m(\u001b[38;5;124mf\u001b[39m\u001b[38;5;124m\"\u001b[39m\u001b[38;5;124mSquat percentile: \u001b[39m\u001b[38;5;132;01m{\u001b[39;00mcalculate_percentile(\u001b[38;5;124m'\u001b[39m\u001b[38;5;124mSquat\u001b[39m\u001b[38;5;124m'\u001b[39m,\u001b[38;5;250m \u001b[39mbwt_input,\u001b[38;5;250m \u001b[39msquat_input)\u001b[38;5;132;01m:\u001b[39;00m\u001b[38;5;124m.2f\u001b[39m\u001b[38;5;132;01m}\u001b[39;00m\u001b[38;5;124m%\u001b[39m\u001b[38;5;124m\"\u001b[39m)\n\u001b[0;32m     42\u001b[0m \u001b[38;5;28mprint\u001b[39m(\u001b[38;5;124mf\u001b[39m\u001b[38;5;124m\"\u001b[39m\u001b[38;5;124mBench percentile: \u001b[39m\u001b[38;5;132;01m{\u001b[39;00mcalculate_percentile(\u001b[38;5;124m'\u001b[39m\u001b[38;5;124mBench\u001b[39m\u001b[38;5;124m'\u001b[39m,\u001b[38;5;250m \u001b[39mbwt_input,\u001b[38;5;250m \u001b[39mbench_input)\u001b[38;5;132;01m:\u001b[39;00m\u001b[38;5;124m.2f\u001b[39m\u001b[38;5;132;01m}\u001b[39;00m\u001b[38;5;124m%\u001b[39m\u001b[38;5;124m\"\u001b[39m)\n\u001b[0;32m     43\u001b[0m \u001b[38;5;28mprint\u001b[39m(\u001b[38;5;124mf\u001b[39m\u001b[38;5;124m\"\u001b[39m\u001b[38;5;124mDeadlift percentile: \u001b[39m\u001b[38;5;132;01m{\u001b[39;00mcalculate_percentile(\u001b[38;5;124m'\u001b[39m\u001b[38;5;124mDeadlift\u001b[39m\u001b[38;5;124m'\u001b[39m,\u001b[38;5;250m \u001b[39mbwt_input,\u001b[38;5;250m \u001b[39mdeadlift_input)\u001b[38;5;132;01m:\u001b[39;00m\u001b[38;5;124m.2f\u001b[39m\u001b[38;5;132;01m}\u001b[39;00m\u001b[38;5;124m%\u001b[39m\u001b[38;5;124m\"\u001b[39m)\n",
      "Cell \u001b[1;32mIn[4], line 30\u001b[0m, in \u001b[0;36mcalculate_percentile\u001b[1;34m(lift_type, bwt, lift_weight)\u001b[0m\n\u001b[0;32m     27\u001b[0m gl_column \u001b[38;5;241m=\u001b[39m \u001b[38;5;124mf\u001b[39m\u001b[38;5;124m\"\u001b[39m\u001b[38;5;124mGLPT \u001b[39m\u001b[38;5;132;01m{\u001b[39;00mlift_type[\u001b[38;5;241m0\u001b[39m]\u001b[38;5;241m.\u001b[39mupper()\u001b[38;5;132;01m}\u001b[39;00m\u001b[38;5;124m\"\u001b[39m\n\u001b[0;32m     29\u001b[0m \u001b[38;5;66;03m# Compute the user's percentile rank relative to the dataset\u001b[39;00m\n\u001b[1;32m---> 30\u001b[0m percentile \u001b[38;5;241m=\u001b[39m np\u001b[38;5;241m.\u001b[39mmean(df[gl_column] \u001b[38;5;241m<\u001b[39m\u001b[38;5;241m=\u001b[39m user_gl_points) \u001b[38;5;241m*\u001b[39m \u001b[38;5;241m100\u001b[39m\n\u001b[0;32m     31\u001b[0m \u001b[38;5;28;01mreturn\u001b[39;00m percentile\n",
      "File \u001b[1;32mC:\\ProgramData\\anaconda3\\Lib\\site-packages\\pandas\\core\\frame.py:3761\u001b[0m, in \u001b[0;36mDataFrame.__getitem__\u001b[1;34m(self, key)\u001b[0m\n\u001b[0;32m   3759\u001b[0m \u001b[38;5;28;01mif\u001b[39;00m \u001b[38;5;28mself\u001b[39m\u001b[38;5;241m.\u001b[39mcolumns\u001b[38;5;241m.\u001b[39mnlevels \u001b[38;5;241m>\u001b[39m \u001b[38;5;241m1\u001b[39m:\n\u001b[0;32m   3760\u001b[0m     \u001b[38;5;28;01mreturn\u001b[39;00m \u001b[38;5;28mself\u001b[39m\u001b[38;5;241m.\u001b[39m_getitem_multilevel(key)\n\u001b[1;32m-> 3761\u001b[0m indexer \u001b[38;5;241m=\u001b[39m \u001b[38;5;28mself\u001b[39m\u001b[38;5;241m.\u001b[39mcolumns\u001b[38;5;241m.\u001b[39mget_loc(key)\n\u001b[0;32m   3762\u001b[0m \u001b[38;5;28;01mif\u001b[39;00m is_integer(indexer):\n\u001b[0;32m   3763\u001b[0m     indexer \u001b[38;5;241m=\u001b[39m [indexer]\n",
      "File \u001b[1;32mC:\\ProgramData\\anaconda3\\Lib\\site-packages\\pandas\\core\\indexes\\base.py:3655\u001b[0m, in \u001b[0;36mIndex.get_loc\u001b[1;34m(self, key)\u001b[0m\n\u001b[0;32m   3653\u001b[0m     \u001b[38;5;28;01mreturn\u001b[39;00m \u001b[38;5;28mself\u001b[39m\u001b[38;5;241m.\u001b[39m_engine\u001b[38;5;241m.\u001b[39mget_loc(casted_key)\n\u001b[0;32m   3654\u001b[0m \u001b[38;5;28;01mexcept\u001b[39;00m \u001b[38;5;167;01mKeyError\u001b[39;00m \u001b[38;5;28;01mas\u001b[39;00m err:\n\u001b[1;32m-> 3655\u001b[0m     \u001b[38;5;28;01mraise\u001b[39;00m \u001b[38;5;167;01mKeyError\u001b[39;00m(key) \u001b[38;5;28;01mfrom\u001b[39;00m \u001b[38;5;21;01merr\u001b[39;00m\n\u001b[0;32m   3656\u001b[0m \u001b[38;5;28;01mexcept\u001b[39;00m \u001b[38;5;167;01mTypeError\u001b[39;00m:\n\u001b[0;32m   3657\u001b[0m     \u001b[38;5;66;03m# If we have a listlike key, _check_indexing_error will raise\u001b[39;00m\n\u001b[0;32m   3658\u001b[0m     \u001b[38;5;66;03m#  InvalidIndexError. Otherwise we fall through and re-raise\u001b[39;00m\n\u001b[0;32m   3659\u001b[0m     \u001b[38;5;66;03m#  the TypeError.\u001b[39;00m\n\u001b[0;32m   3660\u001b[0m     \u001b[38;5;28mself\u001b[39m\u001b[38;5;241m.\u001b[39m_check_indexing_error(key)\n",
      "\u001b[1;31mKeyError\u001b[0m: 'GLPT S'"
     ]
    }
   ],
   "source": [
    "import pandas as pd\n",
    "import numpy as np\n",
    "\n",
    "# Load the dataset\n",
    "file_path = r\"C:\\Users\\N1039872.ADS\\OneDrive - Nottingham Trent University\\Python Code\\unique_entries_data.csv\"\n",
    "df = pd.read_csv(file_path)\n",
    "\n",
    "# GL formula constants\n",
    "A = 1199.72839\n",
    "B = 1025.18162\n",
    "C = 0.00921\n",
    "\n",
    "# Define the GL points calculator function using the updated formula\n",
    "def calculate_gl_points(bwt, lift_weight, A, B, C):\n",
    "    \"\"\"\n",
    "    Calculate the GL points for a given body weight (bwt) and lift weight using the formula:\n",
    "    GL Points = Lift * 100 / (A - B * e^(-C * Bwt))\n",
    "    \"\"\"\n",
    "    return lift_weight * 100 / (A - B * np.exp(-C * bwt))\n",
    "\n",
    "# Define the percentile calculator function\n",
    "def calculate_percentile(lift_type, bwt, lift_weight):\n",
    "    # Calculate GL points for the given bodyweight and lift\n",
    "    user_gl_points = calculate_gl_points(bwt, lift_weight, A, B, C)\n",
    "    \n",
    "    # Determine the column in the dataset that corresponds to the GL points for the selected lift type\n",
    "    gl_column = f\"GLPT {lift_type[0].upper()}\"\n",
    "    \n",
    "    # Compute the user's percentile rank relative to the dataset\n",
    "    percentile = np.mean(df[gl_column] <= user_gl_points) * 100\n",
    "    return percentile\n",
    "\n",
    "# Example usage\n",
    "bwt_input = float(input(\"Enter your body weight (kg): \"))\n",
    "squat_input = float(input(\"Enter your squat weight (kg): \"))\n",
    "bench_input = float(input(\"Enter your bench weight (kg): \"))\n",
    "deadlift_input = float(input(\"Enter your deadlift weight (kg): \"))\n",
    "total_input = squat_input + bench_input + deadlift_input\n",
    "\n",
    "# Calculate and display percentiles for each lift\n",
    "print(f\"Squat percentile: {calculate_percentile('Squat', bwt_input, squat_input):.2f}%\")\n",
    "print(f\"Bench percentile: {calculate_percentile('Bench', bwt_input, bench_input):.2f}%\")\n",
    "print(f\"Deadlift percentile: {calculate_percentile('Deadlift', bwt_input, deadlift_input):.2f}%\")\n",
    "print(f\"Total percentile: {calculate_percentile('Total', bwt_input, total_input):.2f}%\")\n",
    "\n"
   ]
  },
  {
   "cell_type": "code",
   "execution_count": 5,
   "id": "436ceefe",
   "metadata": {},
   "outputs": [
    {
     "name": "stdout",
     "output_type": "stream",
     "text": [
      "GL Points: 30.23\n",
      "Percentage Rank: 84.8%\n"
     ]
    }
   ],
   "source": [
    "import pandas as pd\n",
    "import math\n",
    "\n",
    "# Constants for GL Points formula\n",
    "A = 1199.72839\n",
    "B = 1025.18162\n",
    "C = 0.00921\n",
    "\n",
    "# Load the dataset from the CSV file (header=0 to use the first row as the column names)\n",
    "df = pd.read_csv('unique_entries_data.csv', header=0)\n",
    "\n",
    "# Define a function to calculate GL Points\n",
    "def calculate_gl_points(lift, bodyweight):\n",
    "    return lift * 100 / (A - B * math.exp(-C * bodyweight))\n",
    "\n",
    "# Function to calculate the percentage rank for Squat GL Points\n",
    "def get_percentage_rank_squat(lift, bodyweight):\n",
    "    gl_points = calculate_gl_points(lift, bodyweight)\n",
    "    \n",
    "    # Get the Squat GL Points and Percentage columns\n",
    "    gl_points_column = 'GLPT SQ'  # Column for Squat GL Points\n",
    "    percentage_column = 'GL S % from best'  # Column for Percentage Rank\n",
    "    \n",
    "    # Sort the DataFrame by GL Points in descending order\n",
    "    sorted_df = df.sort_values(by=gl_points_column, ascending=False)\n",
    "    \n",
    "    # Find the rank of the lifter based on GL Points\n",
    "    rank = sorted_df[gl_points_column].rank(pct=True)\n",
    "    \n",
    "    # Find the rank for the given GL Points\n",
    "    rank_value = rank[sorted_df[gl_points_column] <= gl_points].max()\n",
    "    \n",
    "    # Return GL Points and the percentage rank\n",
    "    return gl_points, rank_value * 100\n",
    "\n",
    "# Example usage:\n",
    "bodyweight = 70  # in kg\n",
    "squat_lift = 200  # in kg\n",
    "\n",
    "# Calculate GL Points and rank\n",
    "gl_points, percentage_rank = get_percentage_rank_squat(squat_lift, bodyweight)\n",
    "\n",
    "print(f\"GL Points: {gl_points:.2f}\")\n",
    "print(f\"Percentage Rank: {percentage_rank:.1f}%\")\n"
   ]
  },
  {
   "cell_type": "code",
   "execution_count": 6,
   "id": "9a727c37",
   "metadata": {},
   "outputs": [
    {
     "name": "stdout",
     "output_type": "stream",
     "text": [
      "GL Points: 30.23\n",
      "Percentage Rank: 84.8%\n"
     ]
    }
   ],
   "source": [
    "import pandas as pd\n",
    "import math\n",
    "\n",
    "# Constants for GL Points formula\n",
    "A = 1199.72839\n",
    "B = 1025.18162\n",
    "C = 0.00921\n",
    "\n",
    "# Load the dataset from the CSV file (header=0 to use the first row as the column names)\n",
    "df = pd.read_csv('unique_entries_data.csv', header=0)\n",
    "\n",
    "# Define a function to calculate GL Points\n",
    "def calculate_gl_points(lift, bodyweight):\n",
    "    return lift * 100 / (A - B * math.exp(-C * bodyweight))\n",
    "\n",
    "# Function to calculate the percentage rank for Squat GL Points\n",
    "def get_percentage_rank_squat(lift, bodyweight):\n",
    "    gl_points = calculate_gl_points(lift, bodyweight)\n",
    "    \n",
    "    # Get the Squat GL Points and Percentage columns\n",
    "    gl_points_column = 'GLPT SQ'  # Column for Squat GL Points\n",
    "    percentage_column = 'GL S % from best'  # Column for Percentage Rank\n",
    "    \n",
    "    # Sort the DataFrame by GL Points in descending order\n",
    "    sorted_df = df.sort_values(by=gl_points_column, ascending=False)\n",
    "    \n",
    "    # Find the rank of the lifter based on GL Points\n",
    "    rank = sorted_df[gl_points_column].rank(pct=True)\n",
    "    \n",
    "    # Find the rank for the given GL Points\n",
    "    rank_value = rank[sorted_df[gl_points_column] <= gl_points].max()\n",
    "    \n",
    "    # Return GL Points and the percentage rank\n",
    "    return gl_points, rank_value * 100\n",
    "\n",
    "# Example usage:\n",
    "bodyweight = 70  # in kg\n",
    "squat_lift = 200  # in kg\n",
    "\n",
    "# Calculate GL Points and rank\n",
    "gl_points, percentage_rank = get_percentage_rank_squat(squat_lift, bodyweight)\n",
    "\n",
    "print(f\"GL Points: {gl_points:.2f}\")\n",
    "print(f\"Percentage Rank: {percentage_rank:.1f}%\")\n"
   ]
  },
  {
   "cell_type": "code",
   "execution_count": 7,
   "id": "1b1bca29",
   "metadata": {},
   "outputs": [
    {
     "name": "stdout",
     "output_type": "stream",
     "text": [
      "GL Points: 36.25\n",
      "Percentage Rank: 98.6%\n"
     ]
    }
   ],
   "source": [
    "import pandas as pd\n",
    "import math\n",
    "\n",
    "# Constants for GL Points formula\n",
    "A = 1199.72839\n",
    "B = 1025.18162\n",
    "C = 0.00921\n",
    "\n",
    "# Load the dataset from the CSV file (header=0 to use the first row as the column names)\n",
    "df = pd.read_csv('unique_entries_data.csv', header=0)\n",
    "\n",
    "# Define a function to calculate GL Points\n",
    "def calculate_gl_points(lift, bodyweight):\n",
    "    return lift * 100 / (A - B * math.exp(-C * bodyweight))\n",
    "\n",
    "# Function to calculate the percentage rank for Squat GL Points\n",
    "def get_percentage_rank_squat(lift, bodyweight):\n",
    "    gl_points = calculate_gl_points(lift, bodyweight)\n",
    "    \n",
    "    # Get the Squat GL Points and Percentage columns\n",
    "    gl_points_column = 'GLPT SQ'  # Column for Squat GL Points\n",
    "    percentage_column = 'GL S % from best'  # Column for Percentage Rank\n",
    "    \n",
    "    # Sort the DataFrame by GL Points in descending order\n",
    "    sorted_df = df.sort_values(by=gl_points_column, ascending=False)\n",
    "    \n",
    "    # Find the rank of the lifter based on GL Points\n",
    "    rank = sorted_df[gl_points_column].rank(pct=True)\n",
    "    \n",
    "    # Find the rank for the given GL Points\n",
    "    rank_value = rank[sorted_df[gl_points_column] <= gl_points].max()\n",
    "    \n",
    "    # Return GL Points and the percentage rank\n",
    "    return gl_points, rank_value * 100\n",
    "\n",
    "# Example usage:\n",
    "bodyweight = 95  # in kg\n",
    "squat_lift = 280  # in kg\n",
    "\n",
    "# Calculate GL Points and rank\n",
    "gl_points, percentage_rank = get_percentage_rank_squat(squat_lift, bodyweight)\n",
    "\n",
    "print(f\"GL Points: {gl_points:.2f}\")\n",
    "print(f\"Percentage Rank: {percentage_rank:.1f}%\")\n"
   ]
  },
  {
   "cell_type": "code",
   "execution_count": 8,
   "id": "9a106930",
   "metadata": {},
   "outputs": [
    {
     "name": "stdout",
     "output_type": "stream",
     "text": [
      "GL Points: 36.38\n",
      "Percentage Rank: 98.7%\n"
     ]
    }
   ],
   "source": [
    "import pandas as pd\n",
    "import math\n",
    "\n",
    "# Constants for GL Points formula\n",
    "A = 1199.72839\n",
    "B = 1025.18162\n",
    "C = 0.00921\n",
    "\n",
    "# Load the dataset from the CSV file (header=0 to use the first row as the column names)\n",
    "df = pd.read_csv('unique_entries_data.csv', header=0)\n",
    "\n",
    "# Define a function to calculate GL Points\n",
    "def calculate_gl_points(lift, bodyweight):\n",
    "    return lift * 100 / (A - B * math.exp(-C * bodyweight))\n",
    "\n",
    "# Function to calculate the percentage rank for Squat GL Points\n",
    "def get_percentage_rank_squat(lift, bodyweight):\n",
    "    gl_points = calculate_gl_points(lift, bodyweight)\n",
    "    \n",
    "    # Get the Squat GL Points and Percentage columns\n",
    "    gl_points_column = 'GLPT SQ'  # Column for Squat GL Points\n",
    "    percentage_column = 'GL S % from best'  # Column for Percentage Rank\n",
    "    \n",
    "    # Sort the DataFrame by GL Points in descending order\n",
    "    sorted_df = df.sort_values(by=gl_points_column, ascending=False)\n",
    "    \n",
    "    # Find the rank of the lifter based on GL Points\n",
    "    rank = sorted_df[gl_points_column].rank(pct=True)\n",
    "    \n",
    "    # Find the rank for the given GL Points\n",
    "    rank_value = rank[sorted_df[gl_points_column] <= gl_points].max()\n",
    "    \n",
    "    # Return GL Points and the percentage rank\n",
    "    return gl_points, rank_value * 100\n",
    "\n",
    "# Example usage:\n",
    "bodyweight = 95  # in kg\n",
    "squat_lift = 281  # in kg\n",
    "\n",
    "# Calculate GL Points and rank\n",
    "gl_points, percentage_rank = get_percentage_rank_squat(squat_lift, bodyweight)\n",
    "\n",
    "print(f\"GL Points: {gl_points:.2f}\")\n",
    "print(f\"Percentage Rank: {percentage_rank:.1f}%\")\n"
   ]
  },
  {
   "cell_type": "code",
   "execution_count": 9,
   "id": "e0062bba",
   "metadata": {},
   "outputs": [
    {
     "name": "stdout",
     "output_type": "stream",
     "text": [
      "Bench GL Points: 19.65\n",
      "Bench Percentage Rank: 80.7%\n"
     ]
    }
   ],
   "source": [
    "import pandas as pd\n",
    "import math\n",
    "\n",
    "# Constants for GL Points formula\n",
    "A = 1199.72839\n",
    "B = 1025.18162\n",
    "C = 0.00921\n",
    "\n",
    "# Load the dataset from the CSV file (header=0 to use the first row as the column names)\n",
    "df = pd.read_csv('unique_entries_data.csv', header=0)\n",
    "\n",
    "# Define a function to calculate GL Points\n",
    "def calculate_gl_points(lift, bodyweight):\n",
    "    return lift * 100 / (A - B * math.exp(-C * bodyweight))\n",
    "\n",
    "# Function to calculate the percentage rank for a selected lift\n",
    "def get_percentage_rank(lift, bodyweight, lift_type):\n",
    "    gl_points = calculate_gl_points(lift, bodyweight)\n",
    "    \n",
    "    # Dictionary to map lift types to their corresponding columns\n",
    "    column_mapping = {\n",
    "        \"Squat\": (\"GLPT SQ\", \"GL S % from best\"),\n",
    "        \"Bench\": (\"GLPT B\", \"GL B % from best\"),\n",
    "        \"Deadlift\": (\"GLPT D\", \"GL D % from best\"),\n",
    "        \"Total\": (\"GLPT T\", \"GL T % from best\")\n",
    "    }\n",
    "    \n",
    "    # Get the correct columns based on lift type\n",
    "    gl_points_column, percentage_column = column_mapping[lift_type]\n",
    "    \n",
    "    # Sort the DataFrame by the chosen lift's GL Points in descending order\n",
    "    sorted_df = df.sort_values(by=gl_points_column, ascending=False)\n",
    "    \n",
    "    # Find the rank of the lifter based on GL Points\n",
    "    rank = sorted_df[gl_points_column].rank(pct=True)\n",
    "    \n",
    "    # Find the rank for the given GL Points\n",
    "    rank_value = rank[sorted_df[gl_points_column] <= gl_points].max()\n",
    "    \n",
    "    # Return GL Points and the percentage rank\n",
    "    return gl_points, rank_value * 100\n",
    "\n",
    "# Example usage:\n",
    "bodyweight = 70  # in kg\n",
    "lift = 130  # lift in kg\n",
    "lift_type = \"Bench\"  # specify the lift type (\"Squat\", \"Bench\", \"Deadlift\", or \"Total\")\n",
    "\n",
    "# Calculate GL Points and rank\n",
    "gl_points, percentage_rank = get_percentage_rank(lift, bodyweight, lift_type)\n",
    "\n",
    "print(f\"{lift_type} GL Points: {gl_points:.2f}\")\n",
    "print(f\"{lift_type} Percentage Rank: {percentage_rank:.1f}%\")\n"
   ]
  },
  {
   "cell_type": "code",
   "execution_count": 10,
   "id": "e85fd02d",
   "metadata": {},
   "outputs": [
    {
     "name": "stdout",
     "output_type": "stream",
     "text": [
      "Requirement already satisfied: flask in c:\\programdata\\anaconda3\\lib\\site-packages (2.2.2)Note: you may need to restart the kernel to use updated packages.\n",
      "\n",
      "Requirement already satisfied: pandas in c:\\programdata\\anaconda3\\lib\\site-packages (2.0.3)\n",
      "Requirement already satisfied: Werkzeug>=2.2.2 in c:\\programdata\\anaconda3\\lib\\site-packages (from flask) (2.2.3)\n",
      "Requirement already satisfied: Jinja2>=3.0 in c:\\programdata\\anaconda3\\lib\\site-packages (from flask) (3.1.2)\n",
      "Requirement already satisfied: itsdangerous>=2.0 in c:\\programdata\\anaconda3\\lib\\site-packages (from flask) (2.0.1)\n",
      "Requirement already satisfied: click>=8.0 in c:\\programdata\\anaconda3\\lib\\site-packages (from flask) (8.0.4)\n",
      "Requirement already satisfied: python-dateutil>=2.8.2 in c:\\programdata\\anaconda3\\lib\\site-packages (from pandas) (2.8.2)\n",
      "Requirement already satisfied: pytz>=2020.1 in c:\\programdata\\anaconda3\\lib\\site-packages (from pandas) (2023.3.post1)\n",
      "Requirement already satisfied: tzdata>=2022.1 in c:\\programdata\\anaconda3\\lib\\site-packages (from pandas) (2023.3)\n",
      "Requirement already satisfied: numpy>=1.21.0 in c:\\programdata\\anaconda3\\lib\\site-packages (from pandas) (1.24.3)\n",
      "Requirement already satisfied: colorama in c:\\programdata\\anaconda3\\lib\\site-packages (from click>=8.0->flask) (0.4.6)\n",
      "Requirement already satisfied: MarkupSafe>=2.0 in c:\\programdata\\anaconda3\\lib\\site-packages (from Jinja2>=3.0->flask) (2.1.1)\n",
      "Requirement already satisfied: six>=1.5 in c:\\programdata\\anaconda3\\lib\\site-packages (from python-dateutil>=2.8.2->pandas) (1.16.0)\n"
     ]
    }
   ],
   "source": [
    "pip install flask pandas\n"
   ]
  },
  {
   "cell_type": "code",
   "execution_count": 11,
   "id": "d89ddba1",
   "metadata": {},
   "outputs": [
    {
     "name": "stdout",
     "output_type": "stream",
     "text": [
      " * Serving Flask app '__main__'\n",
      " * Debug mode: on\n"
     ]
    },
    {
     "name": "stderr",
     "output_type": "stream",
     "text": [
      "WARNING: This is a development server. Do not use it in a production deployment. Use a production WSGI server instead.\n",
      " * Running on http://127.0.0.1:5000\n",
      "Press CTRL+C to quit\n",
      " * Restarting with watchdog (windowsapi)\n"
     ]
    },
    {
     "ename": "SystemExit",
     "evalue": "1",
     "output_type": "error",
     "traceback": [
      "An exception has occurred, use %tb to see the full traceback.\n",
      "\u001b[1;31mSystemExit\u001b[0m\u001b[1;31m:\u001b[0m 1\n"
     ]
    },
    {
     "name": "stderr",
     "output_type": "stream",
     "text": [
      "C:\\ProgramData\\anaconda3\\Lib\\site-packages\\IPython\\core\\interactiveshell.py:3534: UserWarning: To exit: use 'exit', 'quit', or Ctrl-D.\n",
      "  warn(\"To exit: use 'exit', 'quit', or Ctrl-D.\", stacklevel=1)\n"
     ]
    }
   ],
   "source": [
    "from flask import Flask, request, render_template\n",
    "import pandas as pd\n",
    "import math\n",
    "\n",
    "app = Flask(__name__)\n",
    "\n",
    "# Load the dataset\n",
    "df = pd.read_csv('unique_entries_data.csv')\n",
    "\n",
    "# Constants for GL Points formula\n",
    "A = 1199.72839\n",
    "B = 1025.18162\n",
    "C = 0.00921\n",
    "\n",
    "# GL Points calculation function\n",
    "def calculate_gl_points(lift, bodyweight):\n",
    "    return lift * 100 / (A - B * math.exp(-C * bodyweight))\n",
    "\n",
    "# Function to calculate rank for a selected lift\n",
    "def get_percentage_rank(lift, bodyweight, lift_type):\n",
    "    gl_points = calculate_gl_points(lift, bodyweight)\n",
    "    column_mapping = {\n",
    "        \"Squat\": (\"GLPT SQ\", \"GL S % from best\"),\n",
    "        \"Bench\": (\"GLPT B\", \"GL B % from best\"),\n",
    "        \"Deadlift\": (\"GLPT D\", \"GL D % from best\"),\n",
    "        \"Total\": (\"GLPT T\", \"GL T % from best\")\n",
    "    }\n",
    "    gl_points_column, percentage_column = column_mapping[lift_type]\n",
    "    sorted_df = df.sort_values(by=gl_points_column, ascending=False)\n",
    "    rank = sorted_df[gl_points_column].rank(pct=True)\n",
    "    rank_value = rank[sorted_df[gl_points_column] <= gl_points].max()\n",
    "    return gl_points, rank_value * 100\n",
    "\n",
    "@app.route(\"/\", methods=[\"GET\", \"POST\"])\n",
    "def index():\n",
    "    result = None\n",
    "    if request.method == \"POST\":\n",
    "        bodyweight = float(request.form[\"bodyweight\"])\n",
    "        lift = float(request.form[\"lift\"])\n",
    "        lift_type = request.form[\"lift_type\"]\n",
    "        gl_points, percentage_rank = get_percentage_rank(lift, bodyweight, lift_type)\n",
    "        result = {\n",
    "            \"gl_points\": round(gl_points, 2),\n",
    "            \"percentage_rank\": round(percentage_rank, 1),\n",
    "            \"lift_type\": lift_type\n",
    "        }\n",
    "    return render_template(\"index.html\", result=result)\n",
    "\n",
    "if __name__ == \"__main__\":\n",
    "    app.run(debug=True)\n"
   ]
  },
  {
   "cell_type": "code",
   "execution_count": 12,
   "id": "d65a7c66",
   "metadata": {},
   "outputs": [
    {
     "ename": "FileNotFoundError",
     "evalue": "[Errno 2] No such file or directory: 'subfolder/unique_entries_data.csv'",
     "output_type": "error",
     "traceback": [
      "\u001b[1;31m---------------------------------------------------------------------------\u001b[0m",
      "\u001b[1;31mFileNotFoundError\u001b[0m                         Traceback (most recent call last)",
      "Cell \u001b[1;32mIn[12], line 1\u001b[0m\n\u001b[1;32m----> 1\u001b[0m df \u001b[38;5;241m=\u001b[39m pd\u001b[38;5;241m.\u001b[39mread_csv(\u001b[38;5;124m'\u001b[39m\u001b[38;5;124msubfolder/unique_entries_data.csv\u001b[39m\u001b[38;5;124m'\u001b[39m)\n",
      "File \u001b[1;32mC:\\ProgramData\\anaconda3\\Lib\\site-packages\\pandas\\io\\parsers\\readers.py:912\u001b[0m, in \u001b[0;36mread_csv\u001b[1;34m(filepath_or_buffer, sep, delimiter, header, names, index_col, usecols, dtype, engine, converters, true_values, false_values, skipinitialspace, skiprows, skipfooter, nrows, na_values, keep_default_na, na_filter, verbose, skip_blank_lines, parse_dates, infer_datetime_format, keep_date_col, date_parser, date_format, dayfirst, cache_dates, iterator, chunksize, compression, thousands, decimal, lineterminator, quotechar, quoting, doublequote, escapechar, comment, encoding, encoding_errors, dialect, on_bad_lines, delim_whitespace, low_memory, memory_map, float_precision, storage_options, dtype_backend)\u001b[0m\n\u001b[0;32m    899\u001b[0m kwds_defaults \u001b[38;5;241m=\u001b[39m _refine_defaults_read(\n\u001b[0;32m    900\u001b[0m     dialect,\n\u001b[0;32m    901\u001b[0m     delimiter,\n\u001b[1;32m   (...)\u001b[0m\n\u001b[0;32m    908\u001b[0m     dtype_backend\u001b[38;5;241m=\u001b[39mdtype_backend,\n\u001b[0;32m    909\u001b[0m )\n\u001b[0;32m    910\u001b[0m kwds\u001b[38;5;241m.\u001b[39mupdate(kwds_defaults)\n\u001b[1;32m--> 912\u001b[0m \u001b[38;5;28;01mreturn\u001b[39;00m _read(filepath_or_buffer, kwds)\n",
      "File \u001b[1;32mC:\\ProgramData\\anaconda3\\Lib\\site-packages\\pandas\\io\\parsers\\readers.py:577\u001b[0m, in \u001b[0;36m_read\u001b[1;34m(filepath_or_buffer, kwds)\u001b[0m\n\u001b[0;32m    574\u001b[0m _validate_names(kwds\u001b[38;5;241m.\u001b[39mget(\u001b[38;5;124m\"\u001b[39m\u001b[38;5;124mnames\u001b[39m\u001b[38;5;124m\"\u001b[39m, \u001b[38;5;28;01mNone\u001b[39;00m))\n\u001b[0;32m    576\u001b[0m \u001b[38;5;66;03m# Create the parser.\u001b[39;00m\n\u001b[1;32m--> 577\u001b[0m parser \u001b[38;5;241m=\u001b[39m TextFileReader(filepath_or_buffer, \u001b[38;5;241m*\u001b[39m\u001b[38;5;241m*\u001b[39mkwds)\n\u001b[0;32m    579\u001b[0m \u001b[38;5;28;01mif\u001b[39;00m chunksize \u001b[38;5;129;01mor\u001b[39;00m iterator:\n\u001b[0;32m    580\u001b[0m     \u001b[38;5;28;01mreturn\u001b[39;00m parser\n",
      "File \u001b[1;32mC:\\ProgramData\\anaconda3\\Lib\\site-packages\\pandas\\io\\parsers\\readers.py:1407\u001b[0m, in \u001b[0;36mTextFileReader.__init__\u001b[1;34m(self, f, engine, **kwds)\u001b[0m\n\u001b[0;32m   1404\u001b[0m     \u001b[38;5;28mself\u001b[39m\u001b[38;5;241m.\u001b[39moptions[\u001b[38;5;124m\"\u001b[39m\u001b[38;5;124mhas_index_names\u001b[39m\u001b[38;5;124m\"\u001b[39m] \u001b[38;5;241m=\u001b[39m kwds[\u001b[38;5;124m\"\u001b[39m\u001b[38;5;124mhas_index_names\u001b[39m\u001b[38;5;124m\"\u001b[39m]\n\u001b[0;32m   1406\u001b[0m \u001b[38;5;28mself\u001b[39m\u001b[38;5;241m.\u001b[39mhandles: IOHandles \u001b[38;5;241m|\u001b[39m \u001b[38;5;28;01mNone\u001b[39;00m \u001b[38;5;241m=\u001b[39m \u001b[38;5;28;01mNone\u001b[39;00m\n\u001b[1;32m-> 1407\u001b[0m \u001b[38;5;28mself\u001b[39m\u001b[38;5;241m.\u001b[39m_engine \u001b[38;5;241m=\u001b[39m \u001b[38;5;28mself\u001b[39m\u001b[38;5;241m.\u001b[39m_make_engine(f, \u001b[38;5;28mself\u001b[39m\u001b[38;5;241m.\u001b[39mengine)\n",
      "File \u001b[1;32mC:\\ProgramData\\anaconda3\\Lib\\site-packages\\pandas\\io\\parsers\\readers.py:1661\u001b[0m, in \u001b[0;36mTextFileReader._make_engine\u001b[1;34m(self, f, engine)\u001b[0m\n\u001b[0;32m   1659\u001b[0m     \u001b[38;5;28;01mif\u001b[39;00m \u001b[38;5;124m\"\u001b[39m\u001b[38;5;124mb\u001b[39m\u001b[38;5;124m\"\u001b[39m \u001b[38;5;129;01mnot\u001b[39;00m \u001b[38;5;129;01min\u001b[39;00m mode:\n\u001b[0;32m   1660\u001b[0m         mode \u001b[38;5;241m+\u001b[39m\u001b[38;5;241m=\u001b[39m \u001b[38;5;124m\"\u001b[39m\u001b[38;5;124mb\u001b[39m\u001b[38;5;124m\"\u001b[39m\n\u001b[1;32m-> 1661\u001b[0m \u001b[38;5;28mself\u001b[39m\u001b[38;5;241m.\u001b[39mhandles \u001b[38;5;241m=\u001b[39m get_handle(\n\u001b[0;32m   1662\u001b[0m     f,\n\u001b[0;32m   1663\u001b[0m     mode,\n\u001b[0;32m   1664\u001b[0m     encoding\u001b[38;5;241m=\u001b[39m\u001b[38;5;28mself\u001b[39m\u001b[38;5;241m.\u001b[39moptions\u001b[38;5;241m.\u001b[39mget(\u001b[38;5;124m\"\u001b[39m\u001b[38;5;124mencoding\u001b[39m\u001b[38;5;124m\"\u001b[39m, \u001b[38;5;28;01mNone\u001b[39;00m),\n\u001b[0;32m   1665\u001b[0m     compression\u001b[38;5;241m=\u001b[39m\u001b[38;5;28mself\u001b[39m\u001b[38;5;241m.\u001b[39moptions\u001b[38;5;241m.\u001b[39mget(\u001b[38;5;124m\"\u001b[39m\u001b[38;5;124mcompression\u001b[39m\u001b[38;5;124m\"\u001b[39m, \u001b[38;5;28;01mNone\u001b[39;00m),\n\u001b[0;32m   1666\u001b[0m     memory_map\u001b[38;5;241m=\u001b[39m\u001b[38;5;28mself\u001b[39m\u001b[38;5;241m.\u001b[39moptions\u001b[38;5;241m.\u001b[39mget(\u001b[38;5;124m\"\u001b[39m\u001b[38;5;124mmemory_map\u001b[39m\u001b[38;5;124m\"\u001b[39m, \u001b[38;5;28;01mFalse\u001b[39;00m),\n\u001b[0;32m   1667\u001b[0m     is_text\u001b[38;5;241m=\u001b[39mis_text,\n\u001b[0;32m   1668\u001b[0m     errors\u001b[38;5;241m=\u001b[39m\u001b[38;5;28mself\u001b[39m\u001b[38;5;241m.\u001b[39moptions\u001b[38;5;241m.\u001b[39mget(\u001b[38;5;124m\"\u001b[39m\u001b[38;5;124mencoding_errors\u001b[39m\u001b[38;5;124m\"\u001b[39m, \u001b[38;5;124m\"\u001b[39m\u001b[38;5;124mstrict\u001b[39m\u001b[38;5;124m\"\u001b[39m),\n\u001b[0;32m   1669\u001b[0m     storage_options\u001b[38;5;241m=\u001b[39m\u001b[38;5;28mself\u001b[39m\u001b[38;5;241m.\u001b[39moptions\u001b[38;5;241m.\u001b[39mget(\u001b[38;5;124m\"\u001b[39m\u001b[38;5;124mstorage_options\u001b[39m\u001b[38;5;124m\"\u001b[39m, \u001b[38;5;28;01mNone\u001b[39;00m),\n\u001b[0;32m   1670\u001b[0m )\n\u001b[0;32m   1671\u001b[0m \u001b[38;5;28;01massert\u001b[39;00m \u001b[38;5;28mself\u001b[39m\u001b[38;5;241m.\u001b[39mhandles \u001b[38;5;129;01mis\u001b[39;00m \u001b[38;5;129;01mnot\u001b[39;00m \u001b[38;5;28;01mNone\u001b[39;00m\n\u001b[0;32m   1672\u001b[0m f \u001b[38;5;241m=\u001b[39m \u001b[38;5;28mself\u001b[39m\u001b[38;5;241m.\u001b[39mhandles\u001b[38;5;241m.\u001b[39mhandle\n",
      "File \u001b[1;32mC:\\ProgramData\\anaconda3\\Lib\\site-packages\\pandas\\io\\common.py:859\u001b[0m, in \u001b[0;36mget_handle\u001b[1;34m(path_or_buf, mode, encoding, compression, memory_map, is_text, errors, storage_options)\u001b[0m\n\u001b[0;32m    854\u001b[0m \u001b[38;5;28;01melif\u001b[39;00m \u001b[38;5;28misinstance\u001b[39m(handle, \u001b[38;5;28mstr\u001b[39m):\n\u001b[0;32m    855\u001b[0m     \u001b[38;5;66;03m# Check whether the filename is to be opened in binary mode.\u001b[39;00m\n\u001b[0;32m    856\u001b[0m     \u001b[38;5;66;03m# Binary mode does not support 'encoding' and 'newline'.\u001b[39;00m\n\u001b[0;32m    857\u001b[0m     \u001b[38;5;28;01mif\u001b[39;00m ioargs\u001b[38;5;241m.\u001b[39mencoding \u001b[38;5;129;01mand\u001b[39;00m \u001b[38;5;124m\"\u001b[39m\u001b[38;5;124mb\u001b[39m\u001b[38;5;124m\"\u001b[39m \u001b[38;5;129;01mnot\u001b[39;00m \u001b[38;5;129;01min\u001b[39;00m ioargs\u001b[38;5;241m.\u001b[39mmode:\n\u001b[0;32m    858\u001b[0m         \u001b[38;5;66;03m# Encoding\u001b[39;00m\n\u001b[1;32m--> 859\u001b[0m         handle \u001b[38;5;241m=\u001b[39m \u001b[38;5;28mopen\u001b[39m(\n\u001b[0;32m    860\u001b[0m             handle,\n\u001b[0;32m    861\u001b[0m             ioargs\u001b[38;5;241m.\u001b[39mmode,\n\u001b[0;32m    862\u001b[0m             encoding\u001b[38;5;241m=\u001b[39mioargs\u001b[38;5;241m.\u001b[39mencoding,\n\u001b[0;32m    863\u001b[0m             errors\u001b[38;5;241m=\u001b[39merrors,\n\u001b[0;32m    864\u001b[0m             newline\u001b[38;5;241m=\u001b[39m\u001b[38;5;124m\"\u001b[39m\u001b[38;5;124m\"\u001b[39m,\n\u001b[0;32m    865\u001b[0m         )\n\u001b[0;32m    866\u001b[0m     \u001b[38;5;28;01melse\u001b[39;00m:\n\u001b[0;32m    867\u001b[0m         \u001b[38;5;66;03m# Binary mode\u001b[39;00m\n\u001b[0;32m    868\u001b[0m         handle \u001b[38;5;241m=\u001b[39m \u001b[38;5;28mopen\u001b[39m(handle, ioargs\u001b[38;5;241m.\u001b[39mmode)\n",
      "\u001b[1;31mFileNotFoundError\u001b[0m: [Errno 2] No such file or directory: 'subfolder/unique_entries_data.csv'"
     ]
    }
   ],
   "source": [
    "df = pd.read_csv('subfolder/unique_entries_data.csv')\n"
   ]
  },
  {
   "cell_type": "code",
   "execution_count": null,
   "id": "299a525d",
   "metadata": {},
   "outputs": [],
   "source": []
  }
 ],
 "metadata": {
  "kernelspec": {
   "display_name": "Python 3 (ipykernel)",
   "language": "python",
   "name": "python3"
  },
  "language_info": {
   "codemirror_mode": {
    "name": "ipython",
    "version": 3
   },
   "file_extension": ".py",
   "mimetype": "text/x-python",
   "name": "python",
   "nbconvert_exporter": "python",
   "pygments_lexer": "ipython3",
   "version": "3.11.5"
  }
 },
 "nbformat": 4,
 "nbformat_minor": 5
}
